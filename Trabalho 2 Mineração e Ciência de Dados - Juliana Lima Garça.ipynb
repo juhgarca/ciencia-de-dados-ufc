{
 "cells": [
  {
   "cell_type": "markdown",
   "id": "95f77629",
   "metadata": {},
   "source": [
    "Este trabalho consiste na utilização de métodos estatísticos com a finalidade de explorar e extrair conhecimento do dataset gerado no trabalho anterior."
   ]
  },
  {
   "cell_type": "code",
   "execution_count": 1,
   "id": "5ad253c5",
   "metadata": {},
   "outputs": [],
   "source": [
    "import pandas as pd\n",
    "import numpy as np"
   ]
  },
  {
   "cell_type": "code",
   "execution_count": 2,
   "id": "039764c5",
   "metadata": {},
   "outputs": [
    {
     "data": {
      "text/html": [
       "<div>\n",
       "<style scoped>\n",
       "    .dataframe tbody tr th:only-of-type {\n",
       "        vertical-align: middle;\n",
       "    }\n",
       "\n",
       "    .dataframe tbody tr th {\n",
       "        vertical-align: top;\n",
       "    }\n",
       "\n",
       "    .dataframe thead th {\n",
       "        text-align: right;\n",
       "    }\n",
       "</style>\n",
       "<table border=\"1\" class=\"dataframe\">\n",
       "  <thead>\n",
       "    <tr style=\"text-align: right;\">\n",
       "      <th></th>\n",
       "      <th>Unnamed: 0</th>\n",
       "      <th>ano</th>\n",
       "      <th>mes</th>\n",
       "      <th>worm</th>\n",
       "      <th>dos</th>\n",
       "      <th>invasao</th>\n",
       "      <th>web</th>\n",
       "      <th>scan</th>\n",
       "      <th>fraude</th>\n",
       "      <th>outros</th>\n",
       "    </tr>\n",
       "  </thead>\n",
       "  <tbody>\n",
       "    <tr>\n",
       "      <th>0</th>\n",
       "      <td>0</td>\n",
       "      <td>1999</td>\n",
       "      <td>jan</td>\n",
       "      <td>89</td>\n",
       "      <td>5</td>\n",
       "      <td>7</td>\n",
       "      <td>14</td>\n",
       "      <td>22</td>\n",
       "      <td>67</td>\n",
       "      <td>0.0</td>\n",
       "    </tr>\n",
       "    <tr>\n",
       "      <th>1</th>\n",
       "      <td>1</td>\n",
       "      <td>1999</td>\n",
       "      <td>fev</td>\n",
       "      <td>75</td>\n",
       "      <td>5</td>\n",
       "      <td>1</td>\n",
       "      <td>6</td>\n",
       "      <td>31</td>\n",
       "      <td>54</td>\n",
       "      <td>0.0</td>\n",
       "    </tr>\n",
       "    <tr>\n",
       "      <th>2</th>\n",
       "      <td>2</td>\n",
       "      <td>1999</td>\n",
       "      <td>mar</td>\n",
       "      <td>100</td>\n",
       "      <td>7</td>\n",
       "      <td>5</td>\n",
       "      <td>12</td>\n",
       "      <td>19</td>\n",
       "      <td>60</td>\n",
       "      <td>0.0</td>\n",
       "    </tr>\n",
       "    <tr>\n",
       "      <th>3</th>\n",
       "      <td>3</td>\n",
       "      <td>1999</td>\n",
       "      <td>abr</td>\n",
       "      <td>60</td>\n",
       "      <td>8</td>\n",
       "      <td>0</td>\n",
       "      <td>2</td>\n",
       "      <td>0</td>\n",
       "      <td>81</td>\n",
       "      <td>0.0</td>\n",
       "    </tr>\n",
       "    <tr>\n",
       "      <th>4</th>\n",
       "      <td>4</td>\n",
       "      <td>1999</td>\n",
       "      <td>mai</td>\n",
       "      <td>68</td>\n",
       "      <td>10</td>\n",
       "      <td>1</td>\n",
       "      <td>7</td>\n",
       "      <td>2</td>\n",
       "      <td>57</td>\n",
       "      <td>0.0</td>\n",
       "    </tr>\n",
       "  </tbody>\n",
       "</table>\n",
       "</div>"
      ],
      "text/plain": [
       "   Unnamed: 0   ano  mes  worm  dos  invasao  web  scan  fraude  outros\n",
       "0           0  1999  jan    89    5        7   14    22      67     0.0\n",
       "1           1  1999  fev    75    5        1    6    31      54     0.0\n",
       "2           2  1999  mar   100    7        5   12    19      60     0.0\n",
       "3           3  1999  abr    60    8        0    2     0      81     0.0\n",
       "4           4  1999  mai    68   10        1    7     2      57     0.0"
      ]
     },
     "execution_count": 2,
     "metadata": {},
     "output_type": "execute_result"
    }
   ],
   "source": [
    "# Carregamento do dataset\n",
    "df = pd.read_csv('incidentes_reportados_1999_2020.csv')\n",
    "df.head()"
   ]
  },
  {
   "cell_type": "markdown",
   "id": "2758d64c",
   "metadata": {},
   "source": [
    "### Medidas de Tendência Central"
   ]
  },
  {
   "cell_type": "code",
   "execution_count": 12,
   "id": "396b24b3",
   "metadata": {},
   "outputs": [
    {
     "data": {
      "text/plain": [
       "0.3333333333333333"
      ]
     },
     "execution_count": 12,
     "metadata": {},
     "output_type": "execute_result"
    }
   ],
   "source": [
    "ano99 = df.loc[df['ano'] == 1999]['outros'].mean()\n",
    "ano99"
   ]
  },
  {
   "cell_type": "code",
   "execution_count": 11,
   "id": "85986995",
   "metadata": {},
   "outputs": [],
   "source": [
    "ataques = ['worm', 'dos', 'invasao', 'web', 'scan', 'fraude', 'outros']"
   ]
  },
  {
   "cell_type": "code",
   "execution_count": 18,
   "id": "0b0d2b61",
   "metadata": {},
   "outputs": [
    {
     "name": "stdout",
     "output_type": "stream",
     "text": [
      "Soma de ataques em 1999 : 3107.0\n",
      "Soma de ataques em 2000 : 5997.0\n",
      "Soma de ataques em 2001 : 12301.0\n",
      "Soma de ataques em 2002 : 25092.0\n",
      "Soma de ataques em 2003 : 54607.0\n",
      "Soma de ataques em 2004 : 75722.0\n",
      "Soma de ataques em 2005 : 68000.0\n",
      "Soma de ataques em 2006 : 197892.0\n",
      "Soma de ataques em 2007 : 160080.0\n",
      "Soma de ataques em 2008 : 222528.0\n",
      "Soma de ataques em 2009 : 358343.0\n",
      "Soma de ataques em 2010 : 142844.0\n",
      "Soma de ataques em 2011 : 399515.0\n",
      "Soma de ataques em 2012 : 466029.0\n",
      "Soma de ataques em 2013 : 352925.0\n",
      "Soma de ataques em 2014 : 1047031.0\n",
      "Soma de ataques em 2015 : 722205.0\n",
      "Soma de ataques em 2016 : 647112.0\n",
      "Soma de ataques em 2017 : 833775.0\n",
      "Soma de ataques em 2018 : 676514.0\n",
      "Soma de ataques em 2019 : 875327.0\n",
      "Soma de ataques em 2020 : 665079.0\n"
     ]
    }
   ],
   "source": [
    "# Média\n",
    "\n",
    "for ano in range(1999, 2021):\n",
    "    soma_ataque = 0\n",
    "    for ataque in ataques:\n",
    "        soma_ataque += df.loc[df['ano'] == ano][ataque].sum()\n",
    "    print(\"Soma de ataques em\", ano,\":\", soma_ataque)"
   ]
  },
  {
   "cell_type": "code",
   "execution_count": 20,
   "id": "d427a886",
   "metadata": {},
   "outputs": [
    {
     "data": {
      "text/plain": [
       "<AxesSubplot:title={'center':'worm'}, xlabel='mes'>"
      ]
     },
     "execution_count": 20,
     "metadata": {},
     "output_type": "execute_result"
    },
    {
     "data": {
      "image/png": "[encoded data removed]",
      "text/plain": [
       "<Figure size 640x480 with 1 Axes>"
      ]
     },
     "metadata": {},
     "output_type": "display_data"
    }
   ],
   "source": [
    "df.boxplot(by='mes', column=['worm'])"
   ]
  },
  {
   "cell_type": "code",
   "execution_count": null,
   "id": "8f1cc5ac",
   "metadata": {},
   "outputs": [],
   "source": []
  }
 ],
 "metadata": {
  "kernelspec": {
   "display_name": "Python 3 (ipykernel)",
   "language": "python",
   "name": "python3"
  },
  "language_info": {
   "codemirror_mode": {
    "name": "ipython",
    "version": 3
   },
   "file_extension": ".py",
   "mimetype": "text/x-python",
   "name": "python",
   "nbconvert_exporter": "python",
   "pygments_lexer": "ipython3",
   "version": "3.8.10"
  }
 },
 "nbformat": 4,
 "nbformat_minor": 5
}
